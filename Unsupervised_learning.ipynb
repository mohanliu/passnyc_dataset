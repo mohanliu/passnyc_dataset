{
 "cells": [
  {
   "cell_type": "code",
   "execution_count": 4,
   "metadata": {},
   "outputs": [
    {
     "data": {
      "text/html": [
       "<script>requirejs.config({paths: { 'plotly': ['https://cdn.plot.ly/plotly-latest.min']},});if(!window.Plotly) {{require(['plotly'],function(plotly) {window.Plotly=plotly;});}}</script>"
      ],
      "text/vnd.plotly.v1+html": [
       "<script>requirejs.config({paths: { 'plotly': ['https://cdn.plot.ly/plotly-latest.min']},});if(!window.Plotly) {{require(['plotly'],function(plotly) {window.Plotly=plotly;});}}</script>"
      ]
     },
     "metadata": {},
     "output_type": "display_data"
    }
   ],
   "source": [
    "import numpy as np \n",
    "import pandas as pd\n",
    "import os\n",
    "\n",
    "import matplotlib.pyplot as plt\n",
    "%matplotlib inline\n",
    "\n",
    "from datetime import date\n",
    "import seaborn as sns\n",
    "import random \n",
    "import warnings\n",
    "import operator\n",
    "warnings.filterwarnings(\"ignore\")\n",
    "\n",
    "import plotly.offline as py\n",
    "py.init_notebook_mode(connected=True)\n",
    "import plotly.graph_objs as go\n",
    "import plotly.tools as tls\n",
    "import plotly.figure_factory as ff\n",
    "\n",
    "# from IPython.core.interactiveshell import InteractiveShell\n",
    "# InteractiveShell.ast_node_interactivity = \"all\""
   ]
  },
  {
   "cell_type": "code",
   "execution_count": 5,
   "metadata": {},
   "outputs": [],
   "source": [
    "from sklearn.decomposition import PCA\n",
    "from sklearn.cluster import KMeans\n",
    "from collections import defaultdict\n",
    "from sklearn.metrics.pairwise import euclidean_distances\n",
    "from sklearn.preprocessing import StandardScaler\n",
    "\n",
    "class PFA(object):\n",
    "    def __init__(self, n_features, q=None):\n",
    "        self.q = q\n",
    "        self.n_features = n_features\n",
    "\n",
    "    def fit(self, X):\n",
    "        if not self.q:\n",
    "            self.q = X.shape[1]\n",
    "\n",
    "        sc = StandardScaler()\n",
    "        X = sc.fit_transform(X)\n",
    "\n",
    "        pca = PCA(n_components=self.q).fit(X)\n",
    "        A_q = pca.components_.T\n",
    "\n",
    "        kmeans = KMeans(n_clusters=self.n_features).fit(A_q)\n",
    "        clusters = kmeans.predict(A_q)\n",
    "        cluster_centers = kmeans.cluster_centers_\n",
    "\n",
    "        dists = defaultdict(list)\n",
    "        for i, c in enumerate(clusters):\n",
    "            dist = euclidean_distances([A_q[i, :]], [cluster_centers[c, :]])[0][0]\n",
    "            dists[c].append((i, dist))\n",
    "\n",
    "        self.indices_ = [sorted(f, key=lambda x: x[1])[0][0] for f in dists.values()]\n",
    "        self.features_ = X[:, self.indices_]"
   ]
  },
  {
   "cell_type": "code",
   "execution_count": 7,
   "metadata": {},
   "outputs": [],
   "source": [
    "# Convert percent values to float\n",
    "pct_features = [\"Student Attendance Rate\", \"Percent of Students Chronically Absent\",\n",
    "            \"Rigorous Instruction %\", \"Collaborative Teachers %\",\n",
    "            \"Supportive Environment %\", \"Effective School Leadership %\",\n",
    "            \"Strong Family-Community Ties %\", \"Trust %\",\n",
    "            \"Percent Black\", \"Percent White\", \"Percent Asian\", \"Percent Hispanic\",\n",
    "            \"Percent Black / Hispanic\", \"Percent ELL\"]\n",
    "\n",
    "# Label encoding all the Rating features\n",
    "mapping_dict = {\"Not Meeting Target\":0, \"Approaching Target\":1, \"Meeting Target\":2, \"Exceeding Target\" : 3}\n",
    "\n",
    "def label_encoding(df, column_name):\n",
    "    df[column_name] = df[column_name].map(mapping_dict)\n",
    "    df[column_name].fillna(-1, inplace=True)\n",
    "    df[column_name] = df[column_name].astype(int)\n",
    "\n",
    "rating_cols = ['Rigorous Instruction Rating', 'Collaborative Teachers Rating', \n",
    "               'Supportive Environment Rating', 'Effective School Leadership Rating',\n",
    "               'Strong Family-Community Ties Rating', 'Trust Rating','Student Achievement Rating']    \n",
    "\n"
   ]
  },
  {
   "cell_type": "code",
   "execution_count": 8,
   "metadata": {},
   "outputs": [],
   "source": [
    "# Load data\n",
    "school_reg = pd.read_csv(\"2016 School Explorer.csv\")\n",
    "\n",
    "# Feature engineering\n",
    "school_reg = school_reg[np.isfinite(school_reg['Economic Need Index'])]\n",
    "\n",
    "# Encoding community school\n",
    "school_reg['Community School?'] = school_reg['Community School?'].map(lambda s: 1 if s == 'Yes' else 0)\n",
    "\n",
    "# Convert percent values to float\n",
    "def convert_percent(x):\n",
    "    x = str(x)\n",
    "    if x == 'nan':\n",
    "        return np.nan\n",
    "    else:\n",
    "        return float(x.strip().replace('%', '').replace(',', ''))\n",
    "\n",
    "for i, cn in enumerate(school_reg[pct_features]):\n",
    "     school_reg[str(cn)]=school_reg[str(cn)].apply(convert_percent)\n",
    "\n",
    "# Label encoding all the Rating features  \n",
    "for c in rating_cols:\n",
    "    label_encoding(school_reg, c)\n",
    "\n",
    "# Focus on Grade 08\n",
    "school_reg = school_reg[school_reg['Grade High'] == '08']\n",
    "\n",
    "# Final cleanup NAN data\n",
    "school_reg['Average ELA Proficiency'].fillna(0, inplace=True)\n",
    "school_reg['Average Math Proficiency'].fillna(0, inplace=True)\n",
    "\n",
    "school_reg.reset_index(inplace=True)"
   ]
  },
  {
   "cell_type": "code",
   "execution_count": 9,
   "metadata": {},
   "outputs": [],
   "source": [
    "pd.set_option('max_columns', 200)\n",
    "pd.set_option('max_info_columns', 200)\n",
    "\n",
    "school_reg_clean_raw = school_reg.iloc[:, 16:].drop('School Income Estimate', axis=1)\n",
    "\n",
    "school_reg_clean1 = school_reg_clean_raw.iloc[:, :25]\n",
    "\n",
    "school_reg_clean2 = school_reg_clean_raw.iloc[:, 125:]\n",
    "school_reg_clean = pd.concat([school_reg_clean1, school_reg_clean2], axis = 1)"
   ]
  },
  {
   "cell_type": "code",
   "execution_count": 10,
   "metadata": {},
   "outputs": [
    {
     "data": {
      "text/plain": [
       "[0, 8, 2, 3, 4, 6, 11, 14, 20, 22, 31, 25, 28, 35, 44]"
      ]
     },
     "execution_count": 10,
     "metadata": {},
     "output_type": "execute_result"
    }
   ],
   "source": [
    "x = StandardScaler().fit_transform(school_reg_clean)\n",
    "pfa = PFA(n_features=15)\n",
    "pfa.fit(x)\n",
    "\n",
    "# To get the transformed matrix\n",
    "X = pfa.features_\n",
    "\n",
    "# To get the column indices of the kept features\n",
    "column_indices = pfa.indices_\n",
    "column_indices"
   ]
  },
  {
   "cell_type": "code",
   "execution_count": 11,
   "metadata": {},
   "outputs": [
    {
     "data": {
      "text/plain": [
       "array(['Community School?', 'Student Attendance Rate', 'Percent ELL',\n",
       "       'Percent Asian', 'Percent Black', 'Percent Black / Hispanic',\n",
       "       'Rigorous Instruction Rating', 'Supportive Environment %',\n",
       "       'Trust %', 'Student Achievement Rating', 'Grade 8 ELA 4s - White',\n",
       "       'Grade 8 ELA - All Students Tested',\n",
       "       'Grade 8 ELA 4s - Black or African American',\n",
       "       'Grade 8 Math - All Students Tested',\n",
       "       'Grade 8 Math 4s - Economically Disadvantaged'], dtype=object)"
      ]
     },
     "execution_count": 11,
     "metadata": {},
     "output_type": "execute_result"
    }
   ],
   "source": [
    "school_reg_clean.columns[column_indices].values"
   ]
  },
  {
   "cell_type": "code",
   "execution_count": null,
   "metadata": {},
   "outputs": [],
   "source": []
  }
 ],
 "metadata": {
  "kernelspec": {
   "display_name": "Python 3",
   "language": "python",
   "name": "python3"
  },
  "language_info": {
   "codemirror_mode": {
    "name": "ipython",
    "version": 3
   },
   "file_extension": ".py",
   "mimetype": "text/x-python",
   "name": "python",
   "nbconvert_exporter": "python",
   "pygments_lexer": "ipython3",
   "version": "3.6.6"
  }
 },
 "nbformat": 4,
 "nbformat_minor": 2
}
