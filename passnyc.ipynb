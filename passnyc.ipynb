{
  "cells": [
    {
      "metadata": {
        "_uuid": "7ba752e9567530e684e66b8b780b867d8817869e"
      },
      "cell_type": "markdown",
      "source": "<h1>PASSNYC - Data Science for Good</h1>\n<p>PASSNYC is a not-for-profit organization that facilitates a collective impact that is dedicated to broadening educational opportunities for New York City's talented and underserved students. New York City is home to some of the most impressive educational institutions in the world, yet in recent years, the City’s specialized high schools - institutions with historically transformative impact on student outcomes - have seen a shift toward more homogeneous student body demographics.</p>\n\n<p>PASSNYC uses public data to identify students within New York City’s under-performing school districts and, through consulting and collaboration with partners, aims to increase the diversity of students taking the Specialized High School Admissions Test (SHSAT). By focusing efforts in under-performing areas that are historically underrepresented in SHSAT registration, we will help pave the path to specialized high schools for a more diverse group of students.</p>\n\n<h2>Table of Contents</h2>\n1. Distribution of Schools according to Cities\n    * Bar Chart\n    * Pie Chart\n2. School Income Estimate\n3. Number of Community colleges\n4. Highest Grade offered by the Schools \n5. Economic Need Index \n6. Framework for Great Schools\n    * Rigorous Instruction\n    * Collaborative Teachers\n    * Supportive Environment\n    * Effective School Leadership\n    * Strong Family-Community Ties\n    * Trust\n7. Average Math and ELA Proficiency\n8. Students Chronically Absent\n9. Distrubution of Schools in NY by Latitude and Longitude\n10. Geospatial Analysis\n    * Asian Percentage in NYC Schools\n    * ELL Percentage in NYC Schools\n    * Black Percentage in NYC Schools\n    * Hispanic Percentage in NYC Schools\n    * White Percentage in NYC Schools\n11. Scores for ELA and Maths from Grade 3 to Grade 8\n12. Number of students who registered for the SHSAT\n13. Enrollment on 10/31 Bar Plot\n\nHi All, The aim of this notebook is complete EDA of the PASSNYC dataset using plotly. Do let me know what do you think about the visualizations in the comments.\n\nThanks!!!"
    },
    {
      "metadata": {
        "_uuid": "8f2839f25d086af736a60e9eeb907d3b93b6e0e5",
        "_cell_guid": "b1076dfc-b9ad-4769-8c92-a6c4dae69d19",
        "trusted": true,
        "_kg_hide-input": true
      },
      "cell_type": "code",
      "source": "# This Python 3 environment comes with many helpful analytics libraries installed\n# It is defined by the kaggle/python docker image: https://github.com/kaggle/docker-python\n# For example, here's several helpful packages to load in \n\nimport numpy as np # linear algebra\nimport pandas as pd # data processing, CSV file I/O (e.g. pd.read_csv)\n\n# Input data files are available in the \"../input/\" directory.\n# For example, running this (by clicking run or pressing Shift+Enter) will list the files in the input directory\n\nimport os\nprint(os.listdir(\"../input\"))\n\n# Any results you write to the current directory are saved as output.",
      "execution_count": 23,
      "outputs": [
        {
          "output_type": "stream",
          "text": "['2016 School Explorer.csv', 'D5 SHSAT Registrations and Testers.csv']\n",
          "name": "stdout"
        }
      ]
    },
    {
      "metadata": {
        "trusted": true,
        "_uuid": "e4c70f2d1671c026d11c959664b6235ea5941c9d",
        "collapsed": true,
        "_kg_hide-input": true
      },
      "cell_type": "code",
      "source": "import numpy as np # linear algebra\nimport pandas as pd # data processing, CSV file I/O (e.g. pd.read_csv)\nimport matplotlib.pyplot as plt\nfrom datetime import date\nimport seaborn as sns\nimport random \nimport warnings\nimport operator\nwarnings.filterwarnings(\"ignore\")",
      "execution_count": 24,
      "outputs": []
    },
    {
      "metadata": {
        "trusted": true,
        "_uuid": "03210a73dc7c97205d9e516a57398dfb0fba7719",
        "_kg_hide-input": true
      },
      "cell_type": "code",
      "source": "import plotly.offline as py\npy.init_notebook_mode(connected=True)\nimport plotly.graph_objs as go\nimport plotly.tools as tls\nimport plotly.figure_factory as ff",
      "execution_count": 25,
      "outputs": [
        {
          "output_type": "display_data",
          "data": {
            "text/html": "<script>requirejs.config({paths: { 'plotly': ['https://cdn.plot.ly/plotly-latest.min']},});if(!window.Plotly) {{require(['plotly'],function(plotly) {window.Plotly=plotly;});}}</script>",
            "text/vnd.plotly.v1+html": "<script>requirejs.config({paths: { 'plotly': ['https://cdn.plot.ly/plotly-latest.min']},});if(!window.Plotly) {{require(['plotly'],function(plotly) {window.Plotly=plotly;});}}</script>"
          },
          "metadata": {}
        }
      ]
    },
    {
      "metadata": {
        "_cell_guid": "79c7e3d0-c299-4dcb-8224-4455121ee9b0",
        "collapsed": true,
        "_uuid": "d629ff2d2480ee46fbb7e2d37f6b5fab8052498a",
        "trusted": true,
        "_kg_hide-input": true
      },
      "cell_type": "code",
      "source": "df_school = pd.read_csv(\"../input/2016 School Explorer.csv\")\ndf_reg = pd.read_csv(\"../input/D5 SHSAT Registrations and Testers.csv\")",
      "execution_count": 26,
      "outputs": []
    },
    {
      "metadata": {
        "trusted": true,
        "_uuid": "0ab6fc22f16e7adccbec705463191929bc1ecffc",
        "scrolled": false,
        "_kg_hide-input": true
      },
      "cell_type": "code",
      "source": "(df_school['Adjusted Grade'].notnull()).sum()",
      "execution_count": 27,
      "outputs": [
        {
          "output_type": "execute_result",
          "execution_count": 27,
          "data": {
            "text/plain": "2"
          },
          "metadata": {}
        }
      ]
    },
    {
      "metadata": {
        "trusted": true,
        "_uuid": "f7a37060bcce1a0ace14ca494895f2f7fadb1c39"
      },
      "cell_type": "code",
      "source": "for i in df_school.columns:\n    print(i)",
      "execution_count": 28,
      "outputs": [
        {
          "output_type": "stream",
          "text": "Adjusted Grade\nNew?\nOther Location Code in LCGMS\nSchool Name\nSED Code\nLocation Code\nDistrict\nLatitude\nLongitude\nAddress (Full)\nCity\nZip\nGrades\nGrade Low\nGrade High\nCommunity School?\nEconomic Need Index\nSchool Income Estimate\nPercent ELL\nPercent Asian\nPercent Black\nPercent Hispanic\nPercent Black / Hispanic\nPercent White\nStudent Attendance Rate\nPercent of Students Chronically Absent\nRigorous Instruction %\nRigorous Instruction Rating\nCollaborative Teachers %\nCollaborative Teachers Rating\nSupportive Environment %\nSupportive Environment Rating\nEffective School Leadership %\nEffective School Leadership Rating\nStrong Family-Community Ties %\nStrong Family-Community Ties Rating\nTrust %\nTrust Rating\nStudent Achievement Rating\nAverage ELA Proficiency\nAverage Math Proficiency\nGrade 3 ELA - All Students Tested\nGrade 3 ELA 4s - All Students\nGrade 3 ELA 4s - American Indian or Alaska Native\nGrade 3 ELA 4s - Black or African American\nGrade 3 ELA 4s - Hispanic or Latino\nGrade 3 ELA 4s - Asian or Pacific Islander\nGrade 3 ELA 4s - White\nGrade 3 ELA 4s - Multiracial\nGrade 3 ELA 4s - Limited English Proficient\nGrade 3 ELA 4s - Economically Disadvantaged\nGrade 3 Math - All Students tested\nGrade 3 Math 4s - All Students\nGrade 3 Math 4s - American Indian or Alaska Native\nGrade 3 Math 4s - Black or African American\nGrade 3 Math 4s - Hispanic or Latino\nGrade 3 Math 4s - Asian or Pacific Islander\nGrade 3 Math 4s - White\nGrade 3 Math 4s - Multiracial\nGrade 3 Math 4s - Limited English Proficient\nGrade 3 Math 4s - Economically Disadvantaged\nGrade 4 ELA - All Students Tested\nGrade 4 ELA 4s - All Students\nGrade 4 ELA 4s - American Indian or Alaska Native\nGrade 4 ELA 4s - Black or African American\nGrade 4 ELA 4s - Hispanic or Latino\nGrade 4 ELA 4s - Asian or Pacific Islander\nGrade 4 ELA 4s - White\nGrade 4 ELA 4s - Multiracial\nGrade 4 ELA 4s - Limited English Proficient\nGrade 4 ELA 4s - Economically Disadvantaged\nGrade 4 Math - All Students Tested\nGrade 4 Math 4s - All Students\nGrade 4 Math 4s - American Indian or Alaska Native\nGrade 4 Math 4s - Black or African American\nGrade 4 Math 4s - Hispanic or Latino\nGrade 4 Math 4s - Asian or Pacific Islander\nGrade 4 Math 4s - White\nGrade 4 Math 4s - Multiracial\nGrade 4 Math 4s - Limited English Proficient\nGrade 4 Math 4s - Economically Disadvantaged\nGrade 5 ELA - All Students Tested\nGrade 5 ELA 4s - All Students\nGrade 5 ELA 4s - American Indian or Alaska Native\nGrade 5 ELA 4s - Black or African American\nGrade 5 ELA 4s - Hispanic or Latino\nGrade 5 ELA 4s - Asian or Pacific Islander\nGrade 5 ELA 4s - White\nGrade 5 ELA 4s - Multiracial\nGrade 5 ELA 4s - Limited English Proficient\nGrade 5 ELA 4s - Economically Disadvantaged\nGrade 5 Math - All Students Tested\nGrade 5 Math 4s - All Students\nGrade 5 Math 4s - American Indian or Alaska Native\nGrade 5 Math 4s - Black or African American\nGrade 5 Math 4s - Hispanic or Latino\nGrade 5 Math 4s - Asian or Pacific Islander\nGrade 5 Math 4s - White\nGrade 5 Math 4s - Multiracial\nGrade 5 Math 4s - Limited English Proficient\nGrade 5 Math 4s - Economically Disadvantaged\nGrade 6 ELA - All Students Tested\nGrade 6 ELA 4s - All Students\nGrade 6 ELA 4s - American Indian or Alaska Native\nGrade 6 ELA 4s - Black or African American\nGrade 6 ELA 4s - Hispanic or Latino\nGrade 6 ELA 4s - Asian or Pacific Islander\nGrade 6 ELA 4s - White\nGrade 6 ELA 4s - Multiracial\nGrade 6 ELA 4s - Limited English Proficient\nGrade 6 ELA 4s - Economically Disadvantaged\nGrade 6 Math - All Students Tested\nGrade 6 Math 4s - All Students\nGrade 6 Math 4s - American Indian or Alaska Native\nGrade 6 Math 4s - Black or African American\nGrade 6 Math 4s - Hispanic or Latino\nGrade 6 Math 4s - Asian or Pacific Islander\nGrade 6 Math 4s - White\nGrade 6 Math 4s - Multiracial\nGrade 6 Math 4s - Limited English Proficient\nGrade 6 Math 4s - Economically Disadvantaged\nGrade 7 ELA - All Students Tested\nGrade 7 ELA 4s - All Students\nGrade 7 ELA 4s - American Indian or Alaska Native\nGrade 7 ELA 4s - Black or African American\nGrade 7 ELA 4s - Hispanic or Latino\nGrade 7 ELA 4s - Asian or Pacific Islander\nGrade 7 ELA 4s - White\nGrade 7 ELA 4s - Multiracial\nGrade 7 ELA 4s - Limited English Proficient\nGrade 7 ELA 4s - Economically Disadvantaged\nGrade 7 Math - All Students Tested\nGrade 7 Math 4s - All Students\nGrade 7 Math 4s - American Indian or Alaska Native\nGrade 7 Math 4s - Black or African American\nGrade 7 Math 4s - Hispanic or Latino\nGrade 7 Math 4s - Asian or Pacific Islander\nGrade 7 Math 4s - White\nGrade 7 Math 4s - Multiracial\nGrade 7 Math 4s - Limited English Proficient\nGrade 7 Math 4s - Economically Disadvantaged\nGrade 8 ELA - All Students Tested\nGrade 8 ELA 4s - All Students\nGrade 8 ELA 4s - American Indian or Alaska Native\nGrade 8 ELA 4s - Black or African American\nGrade 8 ELA 4s - Hispanic or Latino\nGrade 8 ELA 4s - Asian or Pacific Islander\nGrade 8 ELA 4s - White\nGrade 8 ELA 4s - Multiracial\nGrade 8 ELA 4s - Limited English Proficient\nGrade 8 ELA 4s - Economically Disadvantaged\nGrade 8 Math - All Students Tested\nGrade 8 Math 4s - All Students\nGrade 8 Math 4s - American Indian or Alaska Native\nGrade 8 Math 4s - Black or African American\nGrade 8 Math 4s - Hispanic or Latino\nGrade 8 Math 4s - Asian or Pacific Islander\nGrade 8 Math 4s - White\nGrade 8 Math 4s - Multiracial\nGrade 8 Math 4s - Limited English Proficient\nGrade 8 Math 4s - Economically Disadvantaged\n",
          "name": "stdout"
        }
      ]
    },
    {
      "metadata": {
        "_uuid": "6aff95a321c1bcf546f07ebb186c0a5bba0de1ae"
      },
      "cell_type": "markdown",
      "source": "<h2>School City</h2>\nLets have a look at the distribution of schools in the cities given in the database."
    },
    {
      "metadata": {
        "_kg_hide-input": true,
        "trusted": true,
        "_uuid": "afd1e228a536ac923fa3db4f1c03987d934f158c"
      },
      "cell_type": "code",
      "source": "from collections import Counter\ncity_names = []\ncity_count = []\ncity_dict = dict(Counter(df_school.City))\ncity_dict = sorted(city_dict.items(), key=operator.itemgetter(1))\nfor tup in city_dict:\n    city_names.append(tup[0].lower())\n    city_count.append(tup[1])\n\ndataa = [go.Bar(\n            y= city_names,\n            x = city_count,\n            width = 0.9,\n            opacity=0.6, \n            orientation = 'h',\n            marker=dict(\n                color='rgb(158,202,225)',\n                line=dict(\n                    color='rgb(8,48,107)',\n                    width=1.5,\n                )\n            )\n        )]\nlayout = go.Layout(\n    title='Distribution of Schools ',\n    autosize = False,\n    width=800,\n    height=800,\n    margin=go.Margin(\n        l=250,\n        r=50,\n        b=100,\n        t=100,\n        pad=10\n    ),\n)\n\nfig = go.Figure(data=dataa, layout = layout)\npy.iplot(fig, filename='School-City-Bar')\n\nfig2 = {\n  \"data\": [\n    {\n      \"values\": city_count,\n      \"labels\": city_names,\n      \"hoverinfo\":\"label+percent\",\n      \"hole\": .3,\n      \"type\": \"pie\"\n    }],\n  \"layout\": {\n        \"title\":\"Percentage of Schools in each City\",\n        \"paper_bgcolor\":'rgb(243, 243, 243)',\"plot_bgcolor\":'rgb(243, 243, 243)'\n        \n    }\n}\npy.iplot(fig2, filename='School-City-Pie')",
      "execution_count": 29,
      "outputs": [
        {
          "output_type": "display_data",
          "data": {
            "application/vnd.plotly.v1+json": {
              "data": [
                {
                  "type": "bar",
                  "y": [
                    "roosevelt island",
                    "douglaston",
                    "broad channel",
                    "south richmond hill",
                    "rockaway beach",
                    "kew gardens",
                    "college point",
                    "arverne",
                    "cambria heights",
                    "maspeth",
                    "little neck",
                    "floral park",
                    "woodhaven",
                    "howard beach",
                    "east elmhurst",
                    "middle village",
                    "bellerose",
                    "hollis",
                    "rosedale",
                    "glendale",
                    "whitestone",
                    "rockaway park",
                    "saint albans",
                    "queens village",
                    "ozone park",
                    "forest hills",
                    "rego park",
                    "astoria",
                    "woodside",
                    "ridgewood",
                    "richmond hill",
                    "elmhurst",
                    "jackson heights",
                    "corona",
                    "south ozone park",
                    "springfield gardens",
                    "bayside",
                    "far rockaway",
                    "long island city",
                    "flushing",
                    "jamaica",
                    "staten island",
                    "new york",
                    "bronx",
                    "brooklyn"
                  ],
                  "x": [
                    1,
                    1,
                    1,
                    1,
                    1,
                    1,
                    2,
                    2,
                    2,
                    3,
                    3,
                    3,
                    3,
                    3,
                    3,
                    4,
                    4,
                    4,
                    4,
                    5,
                    5,
                    5,
                    5,
                    6,
                    6,
                    6,
                    6,
                    6,
                    7,
                    7,
                    7,
                    8,
                    8,
                    9,
                    10,
                    11,
                    13,
                    13,
                    21,
                    30,
                    32,
                    60,
                    232,
                    297,
                    411
                  ],
                  "width": 0.9,
                  "opacity": 0.6,
                  "orientation": "h",
                  "marker": {
                    "color": "rgb(158,202,225)",
                    "line": {
                      "color": "rgb(8,48,107)",
                      "width": 1.5
                    }
                  }
                }
              ],
              "layout": {
                "title": "Distribution of Schools ",
                "autosize": false,
                "width": 800,
                "height": 800,
                "margin": {
                  "l": 250,
                  "r": 50,
                  "b": 100,
                  "t": 100,
                  "pad": 10
                }
              }
            },
            "text/html": "<div id=\"7d8409d7-5f26-4665-83f8-68fbb1fe6c37\" style=\"height: 800px; width: 800px;\" class=\"plotly-graph-div\"></div><script type=\"text/javascript\">require([\"plotly\"], function(Plotly) { window.PLOTLYENV=window.PLOTLYENV || {};window.PLOTLYENV.BASE_URL=\"https://plot.ly\";Plotly.newPlot(\"7d8409d7-5f26-4665-83f8-68fbb1fe6c37\", [{\"type\": \"bar\", \"y\": [\"roosevelt island\", \"douglaston\", \"broad channel\", \"south richmond hill\", \"rockaway beach\", \"kew gardens\", \"college point\", \"arverne\", \"cambria heights\", \"maspeth\", \"little neck\", \"floral park\", \"woodhaven\", \"howard beach\", \"east elmhurst\", \"middle village\", \"bellerose\", \"hollis\", \"rosedale\", \"glendale\", \"whitestone\", \"rockaway park\", \"saint albans\", \"queens village\", \"ozone park\", \"forest hills\", \"rego park\", \"astoria\", \"woodside\", \"ridgewood\", \"richmond hill\", \"elmhurst\", \"jackson heights\", \"corona\", \"south ozone park\", \"springfield gardens\", \"bayside\", \"far rockaway\", \"long island city\", \"flushing\", \"jamaica\", \"staten island\", \"new york\", \"bronx\", \"brooklyn\"], \"x\": [1, 1, 1, 1, 1, 1, 2, 2, 2, 3, 3, 3, 3, 3, 3, 4, 4, 4, 4, 5, 5, 5, 5, 6, 6, 6, 6, 6, 7, 7, 7, 8, 8, 9, 10, 11, 13, 13, 21, 30, 32, 60, 232, 297, 411], \"width\": 0.9, \"opacity\": 0.6, \"orientation\": \"h\", \"marker\": {\"color\": \"rgb(158,202,225)\", \"line\": {\"color\": \"rgb(8,48,107)\", \"width\": 1.5}}}], {\"title\": \"Distribution of Schools \", \"autosize\": false, \"width\": 800, \"height\": 800, \"margin\": {\"l\": 250, \"r\": 50, \"b\": 100, \"t\": 100, \"pad\": 10}}, {\"showLink\": true, \"linkText\": \"Export to plot.ly\"})});</script>",
            "text/vnd.plotly.v1+html": "<div id=\"7d8409d7-5f26-4665-83f8-68fbb1fe6c37\" style=\"height: 800px; width: 800px;\" class=\"plotly-graph-div\"></div><script type=\"text/javascript\">require([\"plotly\"], function(Plotly) { window.PLOTLYENV=window.PLOTLYENV || {};window.PLOTLYENV.BASE_URL=\"https://plot.ly\";Plotly.newPlot(\"7d8409d7-5f26-4665-83f8-68fbb1fe6c37\", [{\"type\": \"bar\", \"y\": [\"roosevelt island\", \"douglaston\", \"broad channel\", \"south richmond hill\", \"rockaway beach\", \"kew gardens\", \"college point\", \"arverne\", \"cambria heights\", \"maspeth\", \"little neck\", \"floral park\", \"woodhaven\", \"howard beach\", \"east elmhurst\", \"middle village\", \"bellerose\", \"hollis\", \"rosedale\", \"glendale\", \"whitestone\", \"rockaway park\", \"saint albans\", \"queens village\", \"ozone park\", \"forest hills\", \"rego park\", \"astoria\", \"woodside\", \"ridgewood\", \"richmond hill\", \"elmhurst\", \"jackson heights\", \"corona\", \"south ozone park\", \"springfield gardens\", \"bayside\", \"far rockaway\", \"long island city\", \"flushing\", \"jamaica\", \"staten island\", \"new york\", \"bronx\", \"brooklyn\"], \"x\": [1, 1, 1, 1, 1, 1, 2, 2, 2, 3, 3, 3, 3, 3, 3, 4, 4, 4, 4, 5, 5, 5, 5, 6, 6, 6, 6, 6, 7, 7, 7, 8, 8, 9, 10, 11, 13, 13, 21, 30, 32, 60, 232, 297, 411], \"width\": 0.9, \"opacity\": 0.6, \"orientation\": \"h\", \"marker\": {\"color\": \"rgb(158,202,225)\", \"line\": {\"color\": \"rgb(8,48,107)\", \"width\": 1.5}}}], {\"title\": \"Distribution of Schools \", \"autosize\": false, \"width\": 800, \"height\": 800, \"margin\": {\"l\": 250, \"r\": 50, \"b\": 100, \"t\": 100, \"pad\": 10}}, {\"showLink\": true, \"linkText\": \"Export to plot.ly\"})});</script>"
          },
          "metadata": {}
        },
        {
          "output_type": "display_data",
          "data": {
            "application/vnd.plotly.v1+json": {
              "data": [
                {
                  "values": [
                    1,
                    1,
                    1,
                    1,
                    1,
                    1,
                    2,
                    2,
                    2,
                    3,
                    3,
                    3,
                    3,
                    3,
                    3,
                    4,
                    4,
                    4,
                    4,
                    5,
                    5,
                    5,
                    5,
                    6,
                    6,
                    6,
                    6,
                    6,
                    7,
                    7,
                    7,
                    8,
                    8,
                    9,
                    10,
                    11,
                    13,
                    13,
                    21,
                    30,
                    32,
                    60,
                    232,
                    297,
                    411
                  ],
                  "labels": [
                    "roosevelt island",
                    "douglaston",
                    "broad channel",
                    "south richmond hill",
                    "rockaway beach",
                    "kew gardens",
                    "college point",
                    "arverne",
                    "cambria heights",
                    "maspeth",
                    "little neck",
                    "floral park",
                    "woodhaven",
                    "howard beach",
                    "east elmhurst",
                    "middle village",
                    "bellerose",
                    "hollis",
                    "rosedale",
                    "glendale",
                    "whitestone",
                    "rockaway park",
                    "saint albans",
                    "queens village",
                    "ozone park",
                    "forest hills",
                    "rego park",
                    "astoria",
                    "woodside",
                    "ridgewood",
                    "richmond hill",
                    "elmhurst",
                    "jackson heights",
                    "corona",
                    "south ozone park",
                    "springfield gardens",
                    "bayside",
                    "far rockaway",
                    "long island city",
                    "flushing",
                    "jamaica",
                    "staten island",
                    "new york",
                    "bronx",
                    "brooklyn"
                  ],
                  "hoverinfo": "label+percent",
                  "hole": 0.3,
                  "type": "pie"
                }
              ],
              "layout": {
                "title": "Percentage of Schools in each City",
                "paper_bgcolor": "rgb(243, 243, 243)",
                "plot_bgcolor": "rgb(243, 243, 243)"
              }
            },
            "text/html": "<div id=\"3f69765b-290f-404a-8c07-b2d5ffb901ed\" style=\"height: 525px; width: 100%;\" class=\"plotly-graph-div\"></div><script type=\"text/javascript\">require([\"plotly\"], function(Plotly) { window.PLOTLYENV=window.PLOTLYENV || {};window.PLOTLYENV.BASE_URL=\"https://plot.ly\";Plotly.newPlot(\"3f69765b-290f-404a-8c07-b2d5ffb901ed\", [{\"values\": [1, 1, 1, 1, 1, 1, 2, 2, 2, 3, 3, 3, 3, 3, 3, 4, 4, 4, 4, 5, 5, 5, 5, 6, 6, 6, 6, 6, 7, 7, 7, 8, 8, 9, 10, 11, 13, 13, 21, 30, 32, 60, 232, 297, 411], \"labels\": [\"roosevelt island\", \"douglaston\", \"broad channel\", \"south richmond hill\", \"rockaway beach\", \"kew gardens\", \"college point\", \"arverne\", \"cambria heights\", \"maspeth\", \"little neck\", \"floral park\", \"woodhaven\", \"howard beach\", \"east elmhurst\", \"middle village\", \"bellerose\", \"hollis\", \"rosedale\", \"glendale\", \"whitestone\", \"rockaway park\", \"saint albans\", \"queens village\", \"ozone park\", \"forest hills\", \"rego park\", \"astoria\", \"woodside\", \"ridgewood\", \"richmond hill\", \"elmhurst\", \"jackson heights\", \"corona\", \"south ozone park\", \"springfield gardens\", \"bayside\", \"far rockaway\", \"long island city\", \"flushing\", \"jamaica\", \"staten island\", \"new york\", \"bronx\", \"brooklyn\"], \"hoverinfo\": \"label+percent\", \"hole\": 0.3, \"type\": \"pie\"}], {\"title\": \"Percentage of Schools in each City\", \"paper_bgcolor\": \"rgb(243, 243, 243)\", \"plot_bgcolor\": \"rgb(243, 243, 243)\"}, {\"showLink\": true, \"linkText\": \"Export to plot.ly\"})});</script>",
            "text/vnd.plotly.v1+html": "<div id=\"3f69765b-290f-404a-8c07-b2d5ffb901ed\" style=\"height: 525px; width: 100%;\" class=\"plotly-graph-div\"></div><script type=\"text/javascript\">require([\"plotly\"], function(Plotly) { window.PLOTLYENV=window.PLOTLYENV || {};window.PLOTLYENV.BASE_URL=\"https://plot.ly\";Plotly.newPlot(\"3f69765b-290f-404a-8c07-b2d5ffb901ed\", [{\"values\": [1, 1, 1, 1, 1, 1, 2, 2, 2, 3, 3, 3, 3, 3, 3, 4, 4, 4, 4, 5, 5, 5, 5, 6, 6, 6, 6, 6, 7, 7, 7, 8, 8, 9, 10, 11, 13, 13, 21, 30, 32, 60, 232, 297, 411], \"labels\": [\"roosevelt island\", \"douglaston\", \"broad channel\", \"south richmond hill\", \"rockaway beach\", \"kew gardens\", \"college point\", \"arverne\", \"cambria heights\", \"maspeth\", \"little neck\", \"floral park\", \"woodhaven\", \"howard beach\", \"east elmhurst\", \"middle village\", \"bellerose\", \"hollis\", \"rosedale\", \"glendale\", \"whitestone\", \"rockaway park\", \"saint albans\", \"queens village\", \"ozone park\", \"forest hills\", \"rego park\", \"astoria\", \"woodside\", \"ridgewood\", \"richmond hill\", \"elmhurst\", \"jackson heights\", \"corona\", \"south ozone park\", \"springfield gardens\", \"bayside\", \"far rockaway\", \"long island city\", \"flushing\", \"jamaica\", \"staten island\", \"new york\", \"bronx\", \"brooklyn\"], \"hoverinfo\": \"label+percent\", \"hole\": 0.3, \"type\": \"pie\"}], {\"title\": \"Percentage of Schools in each City\", \"paper_bgcolor\": \"rgb(243, 243, 243)\", \"plot_bgcolor\": \"rgb(243, 243, 243)\"}, {\"showLink\": true, \"linkText\": \"Export to plot.ly\"})});</script>"
          },
          "metadata": {}
        }
      ]
    },
    {
      "metadata": {
        "_uuid": "67283871794baeda05f1003a2f31cbb6c1a08c41"
      },
      "cell_type": "markdown",
      "source": "Well, According to the above charts, Most of the Schools are from Brooklyn(32.3%), followed by Bronx(23.3%), New York(18.2%), Staten Island(4.72%), Jamaica(2.52%)"
    },
    {
      "metadata": {
        "_uuid": "af43973a1e0e94144be8b96dfb595b5e6cd4f424"
      },
      "cell_type": "markdown",
      "source": "<h2>School Income Estimate</h2>\nLet's have a look at how much estimated income do the schools have and how are they distributed. The column is contains string values so, need to change it to float values and plot some more charts."
    },
    {
      "metadata": {
        "trusted": true,
        "_uuid": "46f039830d2df86d4f3803d9fc4bd449cc0a5197",
        "_kg_hide-input": true,
        "collapsed": true
      },
      "cell_type": "code",
      "source": "df_school['School Income Estimate'] = df_school['School Income Estimate'].str.replace(',', '')\ndf_school['School Income Estimate'] = df_school['School Income Estimate'].str.replace('$', '')\ndf_school['School Income Estimate'] = df_school['School Income Estimate'].str.replace(' ', '')\ndf_school['School Income Estimate'] = df_school['School Income Estimate'].astype(float)\n\ntrace1 = go.Histogram(\n    x = df_school['School Income Estimate'],\n    name = 'School Income Estimate'\n)\ndat = [trace1]\n\nlayout = go.Layout(\n    title='School Income Estimate',paper_bgcolor='rgb(243, 243, 243)',plot_bgcolor='rgb(243, 243, 243)'\n)\n\nfig = go.Figure(data=dat, layout = layout)\npy.iplot(fig, filename='School-Income-Hist')",
      "execution_count": null,
      "outputs": []
    },
    {
      "metadata": {
        "_uuid": "bce74ac6a91e183adcf4107733350b98318fe7af"
      },
      "cell_type": "markdown",
      "source": "Most of the colleges have income from 25k to 45k, There are a few colleges with extremely high incomes like 140k and 180k, Would like to check if they are Community colleges or not. "
    },
    {
      "metadata": {
        "_uuid": "727b44a24bfe73e88a0f156febafdc1117765bb1"
      },
      "cell_type": "markdown",
      "source": "<h2>Community College or Not</h2>\nHow many colleges from the given dataset are Community colleges?"
    },
    {
      "metadata": {
        "trusted": true,
        "_uuid": "ac937185f3dcf885ec3d705bb3ddf3c86d1acaeb",
        "_kg_hide-input": true,
        "collapsed": true
      },
      "cell_type": "code",
      "source": "cc_names, cc_count = list(), list()\ncc = dict(Counter(df_school['Community School?']))\ncc = sorted(cc.items(), key=operator.itemgetter(1))\nfor tup in cc:\n    cc_names.append(tup[0].upper())\n    cc_count.append(tup[1])\n\ndataa = [go.Bar(\n            y= cc_names,\n            x = cc_count,\n            width = 0.9,\n            opacity=0.6, \n            orientation = 'h',\n            marker=dict(\n                color='rgb(158,202,225)',\n                line=dict(\n                    color='rgb(8,48,107)',\n                    width=1.5,\n                )\n            ),\n        )]\nlayout = go.Layout(\n    title='Community School or Not?',\n    margin=go.Margin(\n        l=250,\n        r=50,\n        b=100,\n        t=100,\n        pad=10\n    ),paper_bgcolor='rgb(243, 243, 243)',plot_bgcolor='rgb(243, 243, 243)'\n)\n\nfig = go.Figure(data=dataa, layout = layout)\npy.iplot(fig, filename='Community-School-Bar')\n",
      "execution_count": null,
      "outputs": []
    },
    {
      "metadata": {
        "trusted": true,
        "collapsed": true,
        "_uuid": "d33192601bd694516aa7a1d67dfc29596a821cbb"
      },
      "cell_type": "markdown",
      "source": "Out of the given 1272 colleges, only 76 of them are Community colleges."
    },
    {
      "metadata": {
        "_uuid": "5623490a1b93db44eb185200b2ce1d8cb426a8f7"
      },
      "cell_type": "markdown",
      "source": "<h2>High Grade</h2>\nLet's see the highest grade offered by the Schools."
    },
    {
      "metadata": {
        "trusted": true,
        "_uuid": "1e9a2ec8e1c740e8eb2ed9b9ffe1ffa37e3642fd",
        "_kg_hide-input": true,
        "scrolled": false,
        "collapsed": true
      },
      "cell_type": "code",
      "source": "df_school['Grade High'] = df_school['Grade High'].map({'09': '9th Grade', '10': '10th Grade', '07': '7th Grade', '02': '2nd Grade', '0K': 'Kindergarten', '04': '4th Grade', '03': '3rd Grade', '06': '6th Grade', '12': '12th Grade', '08': '8th Grade', '05': '5th Grade'})\n\ncc = dict(Counter(df_school['Grade High']))\n\n\ndataa = [go.Bar(\n            y= list(cc.keys()),\n            x = list(cc.values()),\n            width = 0.9,\n            opacity=0.6, \n            orientation = 'h',\n            marker=dict(\n                color='rgb(158,202,225)',\n                line=dict(\n                    color='rgb(8,48,107)',\n                    width=1.5,\n                )\n            ),\n        )]\nlayout = go.Layout(\n    title='Highest Grades in the Given Schools',\n    margin=go.Margin(\n        l=250,\n        r=50,\n        b=100,\n        t=100,\n        pad=10\n    ),paper_bgcolor='rgb(243, 243, 243)',plot_bgcolor='rgb(243, 243, 243)'\n)\n\nfig = go.Figure(data=dataa, layout = layout)\npy.iplot(fig, filename='Community-School-Bar')",
      "execution_count": null,
      "outputs": []
    },
    {
      "metadata": {
        "_uuid": "a79a75f4ca7b12712868ae9a121f4a804921c7ec"
      },
      "cell_type": "markdown",
      "source": "<h2>Economic Need Index</h2>\nThe Economic Need Index reflects the socioeconomics of the school population. It is calculated using the following formula:\n\nEconomic Need Index = (Percent Temporary Housing) + (Percent\nHRA-eligible * 0.5) + (Percent Free Lunch Eligible * 0.5)"
    },
    {
      "metadata": {
        "_kg_hide-input": true,
        "trusted": true,
        "_uuid": "5487c9b4b36b5c05815a8b1950e8c015b693fc83",
        "collapsed": true
      },
      "cell_type": "code",
      "source": "trace1 = go.Histogram(\n    x = df_school['Economic Need Index'],\n    name = 'Economic Need Index'\n)\ndat = [trace1]\n\nlayout = go.Layout(\n    title='Economic Need Index Histogram',paper_bgcolor='rgb(243, 243, 243)',plot_bgcolor='rgb(243, 243, 243)'\n)\n\nfig = go.Figure(data=dat, layout = layout)\npy.iplot(fig, filename='School-Income-Hist')",
      "execution_count": null,
      "outputs": []
    },
    {
      "metadata": {
        "_kg_hide-input": true,
        "trusted": true,
        "collapsed": true,
        "_uuid": "af2ad519913ad725bf28260b2fa477d69c4dce35"
      },
      "cell_type": "code",
      "source": "Margin_common = go.Margin(\n        l=450,\n        r=50,\n        b=100,\n        t=100,\n        pad=10)\nmarker_common = dict(\n                color='rgb(158,202,225)',\n                line=dict(\n                    color='rgb(8,48,107)',\n                    width=1.5,\n                )\n            )",
      "execution_count": null,
      "outputs": []
    },
    {
      "metadata": {
        "_uuid": "8d672b19874c6371a18897c21e269c20a0b606b8"
      },
      "cell_type": "markdown",
      "source": "<h2>Framework for Great Schools</h2>\nThe Framework for Great Schools sets forth six elements—Rigorous Instruction,\nCollaborative Teachers, Supportive Environment, Effective School Leadership,\nStrong Family-Community Ties, and Trust—that drive student achievement and\nschool improvement.\n\nThe School Quality Reports share ratings and information on how schools are\nperforming on the six Framework elements.\n\n1. **Rigorous Instruction**: This section looks at whether curriculum and instruction  are designed to engage students, foster critical-thinking skills, and are aligned to the Common Core. This section draws upon data from the Quality Review and the NYC School Survey.\n2. **Collaborative Teachers**: This section looks at whether teachers participate in opportunities to develop, grow, and contribute to the continuous improvement of the school community. This section draws upon data from the Quality Review and the NYC School Survey.\n3. **Supportive Environment**: This section looks at whether the school establishes a culture where students feel safe, challenged to grow, and supported to meet high expectations. This section draws upon data from the Quality Review, the NYC School Survey, chronic absenteeism (or average change in student attendance, for some school types), and movement of students with disabilities to less restrictive environments.\n4. **Effective School Leadership**: This section looks at whether school leadership inspires the school community with a clear instructional vision and effectively distributes leadership to realize this vision. This section draws upon data from the NYC School Survey and the Quality Review.\n5. **Strong Family-Community Ties**: This section looks at whether the school forms effective partnerships with families to improve the school. This section draws NYC Department of Education 2 upon data from the NYC School Survey and the Quality Review.\n6. **Trust**: This section looks at whether relationships between administrators, educators, students, and families are based on trust and respect. This section draws upon data from the NYC School Survey.\n\nReference : http://schools.nyc.gov/NR/rdonlyres/BC3EADE6-7F28-4E9E-BAED-37A0F0A0F0DF/0/201617EducatorGuideEC10232017.pdf"
    },
    {
      "metadata": {
        "_kg_hide-input": true,
        "trusted": true,
        "scrolled": false,
        "_uuid": "dbb2d4933502aa6a9139e7ecb78c874bf1b2c281",
        "collapsed": true
      },
      "cell_type": "code",
      "source": "rir = dict(Counter(df_school['Rigorous Instruction Rating']))\nrir_bar = go.Bar(\n            y= list(rir.values()),\n            x = list(rir.keys()),\n            width = 0.9,\n            opacity=0.6, \n            orientation = 'v',\n            name = 'Rigorous Instruction Rating',\n            marker= marker_common\n        )\n\nrir2_hist = go.Histogram(\n    x = df_school['Rigorous Instruction %'],\n    name = 'Rigorous Instruction %'\n)\n\n\nctr = dict(Counter(df_school['Collaborative Teachers Rating']))\nctr_bar = go.Bar(\n            y= list(ctr.values()),\n            x = list(ctr.keys()),\n            width = 0.9,\n            opacity=0.6, \n            orientation = 'v',\n            name = 'Collaborative Teachers Rating',\n            marker= marker_common\n        )\n\nctr2_hist = go.Histogram(\n    x = df_school['Collaborative Teachers %'],\n    name = 'Collaborative Teachers %'\n)\n\n\nser = dict(Counter(df_school['Supportive Environment Rating']))\nser_bar = go.Bar(\n            y= list(rir.values()),\n            x = list(rir.keys()),\n            width = 0.9,\n            opacity=0.6, \n            orientation = 'v',\n            name = 'Supportive Environment Rating',\n            marker= marker_common\n        )\n\nser2_hist = go.Histogram(\n    x = df_school['Supportive Environment %'],\n    name = 'Supportive Environment %'\n)\n\n\neslr = dict(Counter(df_school['Effective School Leadership Rating']))\neslr_bar = go.Bar(\n            y= list(eslr.values()),\n            x = list(eslr.keys()),\n            width = 0.9,\n            opacity=0.6, \n            orientation = 'v',\n            name = 'Effective School Leadership Rating',\n            marker= marker_common\n        )\n\neslr2_hist = go.Histogram(\n    x = df_school['Effective School Leadership %'],\n    name = 'Effective School Leadership %'\n)\n\n\nsfct = dict(Counter(df_school['Strong Family-Community Ties Rating']))\nsfct_bar = go.Bar(\n            y= list(sfct.values()),\n            x = list(sfct.keys()),\n            width = 0.9,\n            opacity=0.6, \n            orientation = 'v',\n            name = 'Strong Family-Community Rating',\n            marker= marker_common\n        )\n\nsfct2_hist = go.Histogram(\n    x = df_school['Strong Family-Community Ties %'],\n    name = 'Strong Family-Community Ties %'\n)\n\n\ntr = dict(Counter(df_school['Trust Rating']))\ntr_bar = go.Bar(\n            y= list(tr.values()),\n            x = list(tr.keys()),\n            width = 0.9,\n            opacity=0.6, \n            orientation = 'v',\n            name = 'Trust Rating',\n            marker= marker_common\n        )\n\ntr2_hist = go.Histogram(\n    x = df_school['Trust %'],\n    name = 'Trust %'\n)\n\n\nfig = tls.make_subplots(rows=6, cols=2, subplot_titles=('Rigorous Instruction Rating', 'Rigorous Instruction %',\n                                                        'Collaborative Teachers Rating', 'Collaborative Teachers %',\n                                                        'Supportive Environment Rating', 'Supportive Environment %',\n                                                       'Effective School Leadership Rating', 'Effective School Leadership %',\n                                                        'Strong Family-Community Ties Rating', 'Strong Family-Community Ties %',\n                                                       'Trust Rating', 'Trust %'));\nfig.append_trace(rir_bar, 1, 1);\nfig.append_trace(rir2_hist, 1, 2);\nfig.append_trace(ctr_bar, 2, 1);\nfig.append_trace(ctr2_hist, 2, 2);\nfig.append_trace(ser_bar, 3, 1);\nfig.append_trace(ser2_hist, 3, 2);\nfig.append_trace(eslr_bar, 4, 1);\nfig.append_trace(eslr2_hist, 4, 2);\nfig.append_trace(sfct_bar, 5, 1);\nfig.append_trace(sfct2_hist, 5, 2);\nfig.append_trace(tr_bar, 6, 1);\nfig.append_trace(tr2_hist, 6, 2);\n\nfig['layout'].update(height=2400,title='School Quality Report Charts', showlegend=False, paper_bgcolor='rgb(243, 243, 243)',plot_bgcolor='rgb(243, 243, 243)');\npy.iplot(fig, filename='simple-subplot')",
      "execution_count": null,
      "outputs": []
    },
    {
      "metadata": {
        "_uuid": "a911db15421582d8fee56c5a63fc5387a9150a34"
      },
      "cell_type": "markdown",
      "source": "<h2>Student Achievement Rating</h2>"
    },
    {
      "metadata": {
        "_kg_hide-input": true,
        "trusted": true,
        "_uuid": "9205e0122c90d6b35b353d1da7a8e18992e2e95f",
        "collapsed": true
      },
      "cell_type": "code",
      "source": "SAR = dict(Counter(df_school['Student Achievement Rating']))\n\nfig2 = {\n  \"data\": [\n    {\n      \"values\": list(SAR.values()),\n      \"labels\": list(SAR.keys()),\n      \"hoverinfo\":\"label+percent\",\n      \"hole\": .3,\n      \"type\": \"pie\"\n    }],\n  \"layout\": {\n        \"title\":\"Student Achievement Rating\"\n        ,\"paper_bgcolor\":'rgb(243, 243, 243)',\"plot_bgcolor\":'rgb(243, 243, 243)'\n    }\n}\npy.iplot(fig2, filename='School-City-Pie')\n",
      "execution_count": null,
      "outputs": []
    },
    {
      "metadata": {
        "_uuid": "6f803684f1edc5e8b84d2b6e008dc473750219fa"
      },
      "cell_type": "markdown",
      "source": "<h2>Average Math and ELA Proficiency</h2>\nUnderstanding Proficiency provides resources that guide educators in analyzing student work on performance tasks in order to develop a deeper understanding of the Maths/English Language Arts (ELA)/Literacy Common Core State Standards"
    },
    {
      "metadata": {
        "_kg_hide-input": true,
        "trusted": true,
        "_uuid": "a91971ef563aa163ddc749f726eb66cc8059fdcb",
        "collapsed": true
      },
      "cell_type": "code",
      "source": "amp_hist = go.Histogram(\n    x = df_school['Average Math Proficiency'],\n    name = 'Average Math Proficiency'\n)\n\naep_hist = go.Histogram(\n    x = df_school['Average ELA Proficiency'],\n    name = 'Average ELA Proficiency'\n)\nprint(\"Average Math Proficiency is : \" + str(np.mean(df_school['Average Math Proficiency'])))\nprint(\"Average ELA Proficiency is : \" + str(np.mean(df_school['Average ELA Proficiency'])))\nfig = tls.make_subplots(rows=1, cols=2, subplot_titles=('Average-Math-Proficiency-Histogram', 'Average ELA Proficiency'));\nfig.append_trace(amp_hist, 1, 1);\nfig.append_trace(aep_hist, 1, 2);\n\nfig['layout'].update(height=400,title='Average Proficiency Plot', showlegend=False,paper_bgcolor='rgb(243, 243, 243)',plot_bgcolor='rgb(243, 243, 243)');\npy.iplot(fig, filename='Proficiency-subplot')",
      "execution_count": null,
      "outputs": []
    },
    {
      "metadata": {
        "_uuid": "68bfbb18fa4746c507640e226869c821c52cb8fc"
      },
      "cell_type": "markdown",
      "source": "<h2>Students Chronically Absent</h2>"
    },
    {
      "metadata": {
        "trusted": true,
        "_uuid": "54607f6fd35cd9169e62b69451193b91cfcdd6e4",
        "_kg_hide-input": true,
        "collapsed": true
      },
      "cell_type": "code",
      "source": "PCA_hist = go.Histogram(\n    x = df_school['Percent of Students Chronically Absent'],\n    name = 'Percent of Students Chronically Absent'\n)\n\ndat = [PCA_hist]\n\nlayout = go.Layout(\n    title='Percent of Students Chronically Absent Histogram',paper_bgcolor='rgb(243, 243, 243)',plot_bgcolor='rgb(243, 243, 243)'\n)\n\nfig = go.Figure(data=dat, layout = layout)\npy.iplot(fig, filename='Percent-of-Students-Chronically-Absent-Hist')",
      "execution_count": null,
      "outputs": []
    },
    {
      "metadata": {
        "trusted": true,
        "_uuid": "0058c13c167bf3cd663f2810c34b56ad19408b1a",
        "collapsed": true
      },
      "cell_type": "code",
      "source": "def p2f(x):\n    return float(x.strip('%'))/100\n\ndf_school['Percent Asian'] = df_school['Percent Asian'].apply(p2f)\ndf_school['Percent Black'] = df_school['Percent Black'].apply(p2f)\ndf_school['Percent Hispanic'] = df_school['Percent Hispanic'].apply(p2f)\ndf_school['Percent White'] = df_school['Percent White'].apply(p2f)\ndf_school['Percent Black / Hispanic'] = df_school['Percent Black / Hispanic'].apply(p2f)\ndf_school['Percent ELL'] = df_school['Percent ELL'].apply(p2f)",
      "execution_count": null,
      "outputs": []
    },
    {
      "metadata": {
        "trusted": true,
        "_uuid": "94c58b624e9c7dac43e0672fff35484f3d0ad563",
        "collapsed": true
      },
      "cell_type": "code",
      "source": "d3 = pd.DataFrame(df_school.groupby(['City']).mean())\nd3[['Economic Need Index','School Income Estimate','Percent Asian','Percent Black','Percent Hispanic','Percent Black / Hispanic','Percent White']]\n#d3.head(25)",
      "execution_count": null,
      "outputs": []
    },
    {
      "metadata": {
        "_uuid": "e24f4a5626f36d3485f2dea0ede291e323f54b05"
      },
      "cell_type": "markdown",
      "source": "<h2>Latitude and Longitude</h2>\nLet's Have a look at the distribution of locations using jointplot"
    },
    {
      "metadata": {
        "trusted": true,
        "_uuid": "bd84ff1becd00b74b9607d4387d542b7a3b111fe",
        "scrolled": true,
        "collapsed": true
      },
      "cell_type": "code",
      "source": "plt.figure(figsize=(12,12))\nsns.jointplot(x=df_school.Latitude.values, y=df_school.Longitude.values, size=10, color = 'red')\n#sns.swarmplot(x=\"Latitude\", y=\"Longitude\", hue=\"Percent Asian\" data=df_school)\nplt.ylabel('Longitude', fontsize=12)\nplt.xlabel('Latitude', fontsize=12)\nplt.show()",
      "execution_count": null,
      "outputs": []
    },
    {
      "metadata": {
        "_uuid": "a2c26f7d4202cc299d582898f8434434347cd32e"
      },
      "cell_type": "markdown",
      "source": "<h2>Geospatial Analysis of the Asian Percentage in NYC Schools</h2>\n\nRed means less Precentage and Blue means more Percentage"
    },
    {
      "metadata": {
        "trusted": true,
        "scrolled": false,
        "_uuid": "4a5694902f333dc56c0b76eb3d9a84fa23e76628",
        "_kg_hide-input": true,
        "collapsed": true
      },
      "cell_type": "code",
      "source": "import folium\nfrom folium import plugins\nfrom io import StringIO\nimport folium \n\n#colors = ['hsl('+str(h)+',50%'+',50%)' for h in np.linspace(0, 360, 12)]\ncolors = ['red', 'yellow', 'dusty purple', 'blue']\nd = (df_school['Percent Asian']*100).astype('int')\ncols = [colors[int(i/25)] for i in d]\n\nmap_osm2 = folium.Map([df_school['Latitude'][0], df_school['Longitude'][0]], zoom_start=10.2,tiles='cartodbdark_matter')\n\nfor lat, long, col in zip(df_school['Latitude'], df_school['Longitude'], cols):\n    #rown = list(rown)\n    folium.CircleMarker([lat, long], color=col, fill=True, radius=2).add_to(map_osm2)\n\nmap_osm2",
      "execution_count": null,
      "outputs": []
    },
    {
      "metadata": {
        "_uuid": "3006fb38b4fac35992ab3a111bfbaf7285cf6c7a"
      },
      "cell_type": "markdown",
      "source": "<h2>Geospatial Analysis of the ELL Percentage in NYC Schools</h2>"
    },
    {
      "metadata": {
        "_kg_hide-input": true,
        "trusted": true,
        "scrolled": false,
        "_uuid": "42908f64d24f514e0520e75d4c0ce3aa38717a57",
        "collapsed": true
      },
      "cell_type": "code",
      "source": "d1 = (df_school['Percent ELL']*100).astype('int')\ncols = [colors[int(i/25)] for i in d1]\n\nmap_osm2 = folium.Map([df_school['Latitude'][0], df_school['Longitude'][0]], zoom_start=10.2,tiles='cartodbdark_matter')\n\nfor lat, long, col in zip(df_school['Latitude'], df_school['Longitude'], cols):\n    folium.CircleMarker([lat, long], color=col, fill=True, radius=2).add_to(map_osm2)\n\nmap_osm2",
      "execution_count": null,
      "outputs": []
    },
    {
      "metadata": {
        "_uuid": "9bf882493b45b940745cb6f55ff98330c772700e"
      },
      "cell_type": "markdown",
      "source": "<h2>Geospatial Analysis of the Black Percentage in NYC Schools</h2>"
    },
    {
      "metadata": {
        "_kg_hide-input": true,
        "trusted": true,
        "scrolled": false,
        "_uuid": "7c620bec3848b4cefe77f268dafdf6f417d558c4",
        "collapsed": true
      },
      "cell_type": "code",
      "source": "d3 = (df_school['Percent Black']*100).astype('int')\ncols = [colors[int(i/25)] for i in d1]\n\nmap_osm2 = folium.Map([df_school['Latitude'][0], df_school['Longitude'][0]], zoom_start=10.2,tiles='cartodbdark_matter')\n\nfor lat, long, col in zip(df_school['Latitude'], df_school['Longitude'], cols):\n    folium.CircleMarker([lat, long], color=col, fill=True, radius=2).add_to(map_osm2)\n\nmap_osm2",
      "execution_count": null,
      "outputs": []
    },
    {
      "metadata": {
        "_uuid": "0480cf627190ae25603887318566abeccbb9d4a0"
      },
      "cell_type": "markdown",
      "source": "<h2>Geospatial Analysis of the Hispanic Percentage in NYC Schools</h2>"
    },
    {
      "metadata": {
        "_kg_hide-input": true,
        "trusted": true,
        "_uuid": "184057f44ea6fc7e67240f9ba46f4d295cb1e3ee",
        "collapsed": true
      },
      "cell_type": "code",
      "source": "d3 = (df_school['Percent Hispanic']*100).astype('int')\ncols = [colors[int(i/25)] for i in d1]\n\nmap_osm2 = folium.Map([df_school['Latitude'][0], df_school['Longitude'][0]], zoom_start=10.2,tiles='cartodbdark_matter')\n\nfor lat, long, col in zip(df_school['Latitude'], df_school['Longitude'], cols):\n    folium.CircleMarker([lat, long], color=col, fill=True, radius=2).add_to(map_osm2)\n\nmap_osm2",
      "execution_count": null,
      "outputs": []
    },
    {
      "metadata": {
        "_uuid": "4d552704b6adc9ab2f2c6e18c0a1438fdd178815"
      },
      "cell_type": "markdown",
      "source": "<h2>Geospatial Analysis of the White Percentage in NYC Schools</h2>"
    },
    {
      "metadata": {
        "_kg_hide-input": true,
        "trusted": true,
        "scrolled": false,
        "_uuid": "267212d243e4b10f3e4c0fa5498a04382ec1709a",
        "collapsed": true
      },
      "cell_type": "code",
      "source": "d3 = (df_school['Percent White']*100).astype('int')\ncols = [colors[int(i/25)] for i in d1]\n\nmap_osm2 = folium.Map([df_school['Latitude'][0], df_school['Longitude'][0]], zoom_start=10.2,tiles='cartodbdark_matter')\n\nfor lat, long, col in zip(df_school['Latitude'], df_school['Longitude'], cols):\n    folium.CircleMarker([lat, long], color=col, fill=True, radius=2).add_to(map_osm2)\n\nmap_osm2",
      "execution_count": null,
      "outputs": []
    },
    {
      "metadata": {
        "trusted": true,
        "_uuid": "b96cb7ff945a27976bc9cfc537059c6731c0fae1",
        "collapsed": true
      },
      "cell_type": "code",
      "source": "df_school.head(10)",
      "execution_count": null,
      "outputs": []
    },
    {
      "metadata": {
        "_uuid": "4926f783ca0fa2d6713784ce823635a25ceeb93d"
      },
      "cell_type": "markdown",
      "source": "<h2>Scores for ELA and Maths from Grade 3 to Grade 8</h2>\n**Numeric Grade Scores** : Report Cards Give Up A’s and B’s for 4s and 3s. The lowest mark, 1, indicates a student is not meeting New York State’s academic standards, while the top grade of 4 celebrates “meeting standards with distinction.”\n\nBelow plots are bubble charts for the Number of students getting 4 Scores in Grades 3 to 8.  "
    },
    {
      "metadata": {
        "trusted": true,
        "_uuid": "80cb44ec9ee0aaa418cae86f8a1d0c5ea1efd6e7",
        "_kg_hide-input": true,
        "collapsed": true
      },
      "cell_type": "code",
      "source": "# Create a trace\ncolors = ['hsl('+str(h)+',50%'+',50%)' for h in np.linspace(0, 360, 12)]\nrace = ['All Students','American Indian or Alaska Native','Black or African American',\n          'Hispanic or Latino','Asian or Pacific Islander','White',\n          'Multiracial','Limited English Proficient','Economically Disadvantaged']\n\ng3_ela_count = list()\nfor i in race:\n    g3_ela_count.append( len( df_school['Grade 3 ELA 4s - ' + i][df_school['Grade 3 ELA 4s - ' + i] > 0] ) )\n\ntotal = np.sum(g3_ela_count)\ntrace0 = go.Scatter(\n    x=race,\n    y=g3_ela_count,\n    mode='markers',\n    marker=dict(\n        size=[((x/total)*150) + 20 for x in g3_ela_count],\n        color=colors[:len(race)],\n    )\n)\n\ng3_math_count = list()\nfor i in race:\n    g3_math_count.append( len( df_school['Grade 3 Math 4s - ' + i][df_school['Grade 3 Math 4s - ' + i] > 0] ) )\n\ntotal2 = np.sum(g3_math_count)\ntrace1 = go.Scatter(\n    x=race,\n    y=g3_math_count,\n    mode='markers',\n    marker=dict(\n        size=[((x/total)*150) + 20 for x in g3_math_count],\n        color=colors[:len(race)],\n    )\n)\n\nfig = tls.make_subplots(rows=1, cols=2, subplot_titles=('Count of Students scoring 4s in Grade 3 ELA', 'Count of Students scoring 4s in Grade 3 Math'));\nfig.append_trace(trace0, 1, 1);\nfig.append_trace(trace1, 1, 2);\n\nfig['layout'].update(height=400,title='Count of Students scoring 4s in Grade 3', showlegend=False,paper_bgcolor='rgb(243, 243, 243)',plot_bgcolor='rgb(243, 243, 243)' );\npy.iplot(fig, filename='Proficiency-subplot')",
      "execution_count": null,
      "outputs": []
    },
    {
      "metadata": {
        "trusted": true,
        "_uuid": "c969a838b622881bc2460fb049f969ba59c5964b",
        "_kg_hide-input": true,
        "collapsed": true
      },
      "cell_type": "code",
      "source": "#---------------------Grade 4 -----------------------------------\n\n\ng4_ela_count = list()\nfor i in race:\n    g4_ela_count.append( len( df_school['Grade 4 ELA 4s - ' + i][df_school['Grade 4 ELA 4s - ' + i] > 0] ) )\n\n\ntotal = np.sum(g4_ela_count)\ntrace0 = go.Scatter(\n    x=race,\n    y=g4_ela_count,\n    mode='markers',\n    marker=dict(\n        size=[((x/total)*150) + 20 for x in g4_ela_count],\n        color=colors[:len(race)],\n    )\n)\n\ng4_math_count = list()\nfor i in race:\n    g4_math_count.append( len( df_school['Grade 4 Math 4s - ' + i][df_school['Grade 4 Math 4s - ' + i] > 0] ) )\n\ntotal2 = np.sum(g4_math_count)\ntrace1 = go.Scatter(\n    x=race,\n    y=g4_math_count,\n    mode='markers',\n    marker=dict(\n        size=[((x/total)*150) + 20 for x in g4_math_count],\n        color=colors[:len(race)],\n    )\n)\n\nfig = tls.make_subplots(rows=1, cols=2, subplot_titles=('Count of Students scoring 4s in Grade 4 ELA', 'Count of Students scoring 4s in Grade 4 Math'));\nfig.append_trace(trace0, 1, 1);\nfig.append_trace(trace1, 1, 2);\n\nfig['layout'].update(height=400,title='Count of Students scoring 4s in Grade 4', showlegend=False, paper_bgcolor='rgb(243, 243, 243)',plot_bgcolor='rgb(243, 243, 243)');\npy.iplot(fig, filename='Proficiency-subplot')",
      "execution_count": null,
      "outputs": []
    },
    {
      "metadata": {
        "trusted": true,
        "_uuid": "4fa082733305d2b869a421d09eeb2f542578a651",
        "_kg_hide-input": true,
        "collapsed": true
      },
      "cell_type": "code",
      "source": "#---------------------- Grade 5 --------------------------------------\n\ng5_ela_count = list()\nfor i in race:\n    g5_ela_count.append( len( df_school['Grade 5 ELA 4s - ' + i][df_school['Grade 5 ELA 4s - ' + i] > 0] ) )\n\n\ntotal = np.sum(g5_ela_count)\ntrace0 = go.Scatter(\n    x=race,\n    y=g5_ela_count,\n    mode='markers',\n    marker=dict(\n        size=[((x/total)*150) + 20 for x in g5_ela_count],\n        color=colors[:len(race)],\n    )\n)\n\ng5_math_count = list()\nfor i in race:\n    g5_math_count.append( len( df_school['Grade 5 Math 4s - ' + i][df_school['Grade 5 Math 4s - ' + i] > 0] ) )\n\ntotal2 = np.sum(g5_math_count)\ntrace1 = go.Scatter(\n    x=race,\n    y=g5_math_count,\n    mode='markers',\n    marker=dict(\n        size=[((x/total2)*150) + 20 for x in g5_math_count],\n        color=colors[:len(race)],\n    )\n)\n\nfig = tls.make_subplots(rows=1, cols=2, subplot_titles=('Count of Students scoring 4s in Grade 5 ELA', 'Count of Students scoring 4s in Grade 5 Math'));\nfig.append_trace(trace0, 1, 1);\nfig.append_trace(trace1, 1, 2);\n\nfig['layout'].update(height=400,title='Count of Students scoring 4s in Grade 5', showlegend=False, paper_bgcolor='rgb(243, 243, 243)',plot_bgcolor='rgb(243, 243, 243)');\npy.iplot(fig, filename='Proficiency-subplot')",
      "execution_count": null,
      "outputs": []
    },
    {
      "metadata": {
        "trusted": true,
        "_uuid": "20ff2e04de1e568cb6e47af3eb75c3876f54635c",
        "_kg_hide-input": true,
        "collapsed": true
      },
      "cell_type": "code",
      "source": "# ---------------- Grade 6 ---------------------------\n\n\ng6_ela_count = list()\nfor i in race:\n    g6_ela_count.append( len( df_school['Grade 6 ELA 4s - ' + i][df_school['Grade 6 ELA 4s - ' + i] > 0] ) )\n\n\ntotal = np.sum(g6_ela_count)\ntrace0 = go.Scatter(\n    x=race,\n    y=g6_ela_count,\n    mode='markers',\n    marker=dict(\n        size=[((x/total)*150) + 20 for x in g6_ela_count],\n        color=colors[:len(race)],\n    )\n)\n\ng6_math_count = list()\nfor i in race:\n    g6_math_count.append( len( df_school['Grade 6 Math 4s - ' + i][df_school['Grade 6 Math 4s - ' + i] > 0] ) )\n\ntotal2 = np.sum(g6_math_count)\ntrace1 = go.Scatter(\n    x=race,\n    y=g6_math_count,\n    mode='markers',\n    marker=dict(\n        size=[((x/total2)*150) + 20 for x in g6_math_count],\n        color=colors[:len(race)],\n    )\n)\n\n\nfig = tls.make_subplots(rows=1, cols=2, subplot_titles=('Count of Students scoring 4s in Grade 6 ELA', 'Count of Students scoring 4s in Grade 6 Math'));\nfig.append_trace(trace0, 1, 1);\nfig.append_trace(trace1, 1, 2);\n\nfig['layout'].update(height=400,title='Count of Students scoring 4s in Grade 6', showlegend=False, paper_bgcolor='rgb(243, 243, 243)',plot_bgcolor='rgb(243, 243, 243)');\npy.iplot(fig, filename='Proficiency-subplot')",
      "execution_count": null,
      "outputs": []
    },
    {
      "metadata": {
        "trusted": true,
        "_uuid": "f7fbe55873597b163418b30c508de5105ba398e1",
        "_kg_hide-input": true,
        "collapsed": true
      },
      "cell_type": "code",
      "source": "# -------------------------- Grade 7 ---------------------------\n\ng7_ela_count = list()\nfor i in race:\n    g7_ela_count.append( len( df_school['Grade 7 ELA 4s - ' + i][df_school['Grade 7 ELA 4s - ' + i] > 0] ) )\n\ntotal = np.sum(g7_ela_count)\ntrace0 = go.Scatter(\n    x=race,\n    y=g7_ela_count,\n    mode='markers',\n    marker=dict(\n        size=[((x/total)*150) + 20 for x in g7_ela_count],\n        color=colors[:len(race)],\n    )\n)\n\ng7_math_count = list()\nfor i in race:\n    g7_math_count.append( len( df_school['Grade 7 Math 4s - ' + i][df_school['Grade 7 Math 4s - ' + i] > 0] ) )\n\ntotal2 = np.sum(g7_math_count)\ntrace1 = go.Scatter(\n    x=race,\n    y=g7_math_count,\n    mode='markers',\n    marker=dict(\n        size=[((x/total2)*150) + 20 for x in g7_math_count],\n        color=colors[:len(race)],\n    )\n)\n\n\nfig = tls.make_subplots(rows=1, cols=2, subplot_titles=('Count of Students scoring 4s in Grade 7 ELA', 'Count of Students scoring 4s in Grade 7 Math'));\nfig.append_trace(trace0, 1, 1);\nfig.append_trace(trace1, 1, 2);\n\nfig['layout'].update(height=400,title='Count of Students scoring 4s in Grade 7', showlegend=False, paper_bgcolor='rgb(243, 243, 243)',plot_bgcolor='rgb(243, 243, 243)');\npy.iplot(fig, filename='Proficiency-subplot')",
      "execution_count": null,
      "outputs": []
    },
    {
      "metadata": {
        "trusted": true,
        "_uuid": "ced2417ec8e77fa6e0a06079fe01c8aa167b6fad",
        "_kg_hide-input": true,
        "collapsed": true
      },
      "cell_type": "code",
      "source": "#------------------------- Grade 8 -----------------------------\n\ng8_ela_count = list()\nfor i in race:\n    g8_ela_count.append( len( df_school['Grade 8 ELA 4s - ' + i][df_school['Grade 8 ELA 4s - ' + i] > 0] ) )\n\ntotal = np.sum(g8_ela_count)\ntrace0 = go.Scatter(\n    x=race,\n    y=g8_ela_count,\n    mode='markers',\n    marker=dict(\n        size=[((x/total)*150) + 20 for x in g8_ela_count],\n        color=colors[:len(race)],\n    )\n)\n\ng8_math_count = list()\nfor i in race:\n    g8_math_count.append( len( df_school['Grade 8 Math 4s - ' + i][df_school['Grade 8 Math 4s - ' + i] > 0] ) )\n\ntotal2 = np.sum(g8_math_count)\ntrace1 = go.Scatter(\n    x=race,\n    y=g8_math_count,\n    mode='markers',\n    marker=dict(\n        size=[((x/total2)*150) + 20 for x in g8_math_count],\n        color=colors[:len(race)],\n        \n    )\n)\n\nfig = tls.make_subplots(rows=1, cols=2, subplot_titles=('Count of Students scoring 4s in Grade 8 ELA', 'Count of Students scoring 4s in Grade 8 Math'));\nfig.append_trace(trace0, 1, 1);\nfig.append_trace(trace1, 1, 2);\n\nfig['layout'].update(height=400,title='Count of Students scoring 4s in Grade 8', showlegend=False, paper_bgcolor='rgb(243, 243, 243)',plot_bgcolor='rgb(243, 243, 243)');\npy.iplot(fig, filename='Proficiency-subplot')",
      "execution_count": null,
      "outputs": []
    },
    {
      "metadata": {
        "_uuid": "d50f3a892725ace4660f0507e8f52d93d4d540d5"
      },
      "cell_type": "markdown",
      "source": "<h2>2016 School Explorer</h2>\nLets have a look at the second csv file given to us and explore it a bit. "
    },
    {
      "metadata": {
        "_uuid": "4b75fdf45f7c60219ec60888fa2181c821ce631a"
      },
      "cell_type": "markdown",
      "source": "<h2>Number of students who registered for the SHSAT</h2>\n"
    },
    {
      "metadata": {
        "trusted": true,
        "_uuid": "7f115fa348a10944f7fc50d8e510a19b93aed4b6",
        "collapsed": true,
        "_kg_hide-input": true
      },
      "cell_type": "code",
      "source": "d4 = df_reg[df_reg['Year of SHST'] == 2013]\nd4 = pd.DataFrame(d4.groupby(['School name']).sum()).reset_index()\nd5 = df_reg[df_reg['Year of SHST'] == 2014]\nd5 = pd.DataFrame(d5.groupby(['School name']).sum()).reset_index()\nd6 = df_reg[df_reg['Year of SHST'] == 2015]\nd6 = pd.DataFrame(d6.groupby(['School name']).sum()).reset_index()\nd7 = df_reg[df_reg['Year of SHST'] == 2016]\nd7 = pd.DataFrame(d7.groupby(['School name']).sum()).reset_index()\n\nd4['Number of students who did not take the SHSAT after registering'] = d4['Number of students who registered for the SHSAT'] - d4['Number of students who took the SHSAT']\nd5['Number of students who did not take the SHSAT after registering'] = d5['Number of students who registered for the SHSAT'] - d5['Number of students who took the SHSAT']\nd6['Number of students who did not take the SHSAT after registering'] = d6['Number of students who registered for the SHSAT'] - d6['Number of students who took the SHSAT']\nd7['Number of students who did not take the SHSAT after registering'] = d7['Number of students who registered for the SHSAT'] - d7['Number of students who took the SHSAT']",
      "execution_count": null,
      "outputs": []
    },
    {
      "metadata": {
        "trusted": true,
        "_uuid": "af817f5b5db8eefb41afeaa3ca34701c74226f28",
        "_kg_hide-input": true,
        "collapsed": true
      },
      "cell_type": "code",
      "source": "\ntrace1 = go.Bar(\n    y=df_reg['School name'],\n    x=df_reg['Number of students who registered for the SHSAT'],\n    name='Number of students who registered for the SHSAT',\n    orientation = 'h'\n)\ntrace2 = go.Bar(\n    y=df_reg['School name'],\n    x=df_reg['Number of students who took the SHSAT'],\n    name='Number of students who took the SHSAT',\n    orientation = 'h'\n)\n\ndata = [trace1, trace2]\nlayout = go.Layout(\n    barmode='stack',\n    showlegend = False,\n    margin=go.Margin(\n        l=350,\n        r=50,\n        b=100,\n        t=100,\n        pad=4\n    ),\n    height = 800,\n    \n)\n\nfig = go.Figure(data=data, layout=layout)\npy.iplot(fig, filename='marker-h-bar')\n",
      "execution_count": null,
      "outputs": []
    },
    {
      "metadata": {
        "_uuid": "6898b4bada96050e55bded17c9d28c9f5d715d7c"
      },
      "cell_type": "markdown",
      "source": "<h2>Number of students who registered for the SHSAT</h2>\nLets have a look at the percentage of students who registered and took the SHSAT."
    },
    {
      "metadata": {
        "_kg_hide-input": true,
        "trusted": true,
        "_uuid": "a55f4f2bc773616d4a3f7d91a491995130c01d4d",
        "collapsed": true
      },
      "cell_type": "code",
      "source": "label_common = ['Number of students who did not take the SHSAT after registering', 'Number of students who took the SHSAT']\n\nvalues_13 = [np.sum(d4['Number of students who did not take the SHSAT after registering']), np.sum(d4['Number of students who took the SHSAT'])]\nvalues_14 = [np.sum(d5['Number of students who did not take the SHSAT after registering']), np.sum(d5['Number of students who took the SHSAT'])]\nvalues_15 = [np.sum(d6['Number of students who did not take the SHSAT after registering']), np.sum(d6['Number of students who took the SHSAT'])]\nvalues_16 = [np.sum(d7['Number of students who did not take the SHSAT after registering']), np.sum(d7['Number of students who took the SHSAT'])]\n\n\nlabels1 = ['Number of students who registered for the SHSAT','Number of students who took the SHSAT','Number of students who did not take the SHSAT']\nval_2013 = [[np.sum(d4['Number of students who registered for the SHSAT']), \n             np.sum(d4['Number of students who took the SHSAT']),\n             np.sum(d4['Number of students who did not take the SHSAT after registering'])]]\n\nval_2014 = [[np.sum(d5['Number of students who registered for the SHSAT']), \n             np.sum(d5['Number of students who took the SHSAT']),\n             np.sum(d5['Number of students who did not take the SHSAT after registering'])]]\n\nval_2015 = [[np.sum(d6['Number of students who registered for the SHSAT']), \n             np.sum(d6['Number of students who took the SHSAT']),\n             np.sum(d6['Number of students who did not take the SHSAT after registering'])]]\n\nval_2016 = [[np.sum(d7['Number of students who registered for the SHSAT']), \n             np.sum(d7['Number of students who took the SHSAT']),\n             np.sum(d7['Number of students who did not take the SHSAT after registering'])]]\ntrace0 = go.Bar(\n    y=labels1,\n    x=val_2013[0],\n    marker=dict(color=['blue', 'yellow','red']),\n    orientation ='h'\n)\n\ntrace1 = go.Bar(\n    x=val_2014[0],\n    y=labels1,\n    marker=dict(color=['blue', 'yellow','red']),\n    orientation ='h'\n)\nfig = tls.make_subplots(rows=2, cols=1, subplot_titles=('Number of students who registered for the SHSAT for 2013', 'Number of students who registered for the SHSAT for 2014'));\nfig.append_trace(trace0, 1, 1);\nfig.append_trace(trace1, 2, 1);\n\nfig['layout'].update(title = 'Number of students who registered for the SHSAT for 2013 and 2014', height=600, showlegend=False, margin=go.Margin(\n        l=350,\n        r=50,\n        b=100,\n        t=100,\n        pad=4\n    ),paper_bgcolor='rgb(243, 243, 243)',plot_bgcolor='rgb(243, 243, 243)');\npy.iplot(fig, filename='Proficiency-subplot')\n\nfig = {\n  \"data\": [\n    {\n      \"values\": values_13,\n      \"labels\": label_common,\n      \"domain\": {\"x\": [0, .48]},\n      \"name\": \"2013\",\n      \"hoverinfo\":\"label+percent+name\",\n      \"hole\": .4,\n      \"type\": \"pie\"\n    },\n    {\n      \"values\": values_14,\n      \"labels\": label_common,\n      \"text\":[\"2013\"],\n      \"textposition\":\"inside\",\n      \"domain\": {\"x\": [.52, 1]},\n      \"name\": \"2014\",\n      \"hoverinfo\":\"label+percent+name\",\n      \"hole\": .4,\n      \"type\": \"pie\"\n    }],\n  \"layout\": {\n        \"title\":\"Number of students who registered for the SHSAT for 2013 and 2014\",\n        \"showlegend\": False,\n        \"annotations\": [\n            {\n                \"font\": {\n                    \"size\": 20\n                },\n                \"showarrow\": False,\n                \"text\": \"2013\",\n                \"x\": 0.20,\n                \"y\": 0.5\n            },\n            {\n                \"font\": {\n                    \"size\": 20\n                },\n                \"showarrow\": False,\n                \"text\": \"2014\",\n                \"x\": 0.8,\n                \"y\": 0.5\n            }\n        ],\n        \"paper_bgcolor\": 'rgb(243, 243, 243)',\"plot_bgcolor\":'rgb(243, 243, 243)',\n    }\n}\npy.iplot(fig, filename='donut')\n",
      "execution_count": null,
      "outputs": []
    },
    {
      "metadata": {
        "_kg_hide-input": true,
        "trusted": true,
        "_uuid": "7a566139d081ac31e0a66fba8205e7e227ecbbc6",
        "collapsed": true
      },
      "cell_type": "code",
      "source": "trace0 = go.Bar(\n    y=labels1,\n    x=val_2015[0],\n    marker=dict(color=['blue', 'yellow','red']),\n    orientation ='h'\n)\n\ntrace1 = go.Bar(\n    x=val_2016[0],\n    y=labels1,\n    marker=dict(color=['blue', 'yellow','red']),\n    orientation ='h'\n)\nfig = tls.make_subplots(rows=2, cols=1, subplot_titles=('Number of students who registered for the SHSAT for 2015', 'Number of students who registered for the SHSAT for 2016'));\nfig.append_trace(trace0, 1, 1);\nfig.append_trace(trace1, 2, 1);\n\nfig['layout'].update(title = 'Number of students who registered for the SHSAT', height=600, showlegend=False, margin=go.Margin(\n        l=350,\n        r=50,\n        b=100,\n        t=100,\n        pad=4\n    ),paper_bgcolor='rgb(243, 243, 243)',plot_bgcolor='rgb(243, 243, 243)');\npy.iplot(fig, filename='Proficiency-subplot')\n\nfig = {\n  \"data\": [\n    {\n      \"values\": values_15,\n      \"labels\": label_common,\n      \"domain\": {\"x\": [0, .48]},\n      \"name\": \"2015\",\n      \"hoverinfo\":\"label+percent+name\",\n      \"hole\": .4,\n      \"type\": \"pie\"\n    },\n    {\n      \"values\": values_16,\n      \"labels\": label_common,\n      \"text\":[\"2016\"],\n      \"textposition\":\"inside\",\n      \"domain\": {\"x\": [.52, 1]},\n      \"name\": \"2016\",\n      \"hoverinfo\":\"label+percent+name\",\n      \"hole\": .4,\n      \"type\": \"pie\"\n    }],\n  \"layout\": {\n        \"title\":\"Number of students who registered for the SHSAT for 2015 and 2016\",\n        \"showlegend\": False,\n        \"annotations\": [\n            {\n                \"font\": {\n                    \"size\": 20\n                },\n                \"showarrow\": False,\n                \"text\": \"2015\",\n                \"x\": 0.20,\n                \"y\": 0.5\n            },\n            {\n                \"font\": {\n                    \"size\": 20\n                },\n                \"showarrow\": False,\n                \"text\": \"2016\",\n                \"x\": 0.8,\n                \"y\": 0.5\n            }\n        ],\n      \"paper_bgcolor\": 'rgb(243, 243, 243)',\"plot_bgcolor\":'rgb(243, 243, 243)',\n    }\n}\npy.iplot(fig, filename='donut')\n\n",
      "execution_count": null,
      "outputs": []
    },
    {
      "metadata": {
        "_kg_hide-input": true,
        "trusted": true,
        "_uuid": "b529a829fc450d75e3b21cbb5395028b9a705103",
        "collapsed": true
      },
      "cell_type": "code",
      "source": "trace1 = go.Bar(\n    x=[np.sum(d4['Enrollment on 10/31']), np.sum(d5['Enrollment on 10/31']), np.sum(d6['Enrollment on 10/31']), np.sum(d7['Enrollment on 10/31'])],\n    y=['2013', '2014', '2015', '2016'],\n    marker=dict(color=['blue', 'yellow','red', 'orange']),\n    orientation ='h'\n)\ndata = [trace1]\n\nlayout = go.Layout(\n    title = \"Enrollment on 10/31 Bar Plot\",\n    barmode='stack',\n    height = 400,\n     xaxis=dict(\n        title='Count',\n    ),\n    yaxis=dict(\n        title='Year',\n    ),paper_bgcolor='rgb(243, 243, 243)',plot_bgcolor='rgb(243, 243, 243)')\n\n\nfig = go.Figure(data=data, layout=layout)\npy.iplot(fig, filename='marker-h-bar')",
      "execution_count": null,
      "outputs": []
    },
    {
      "metadata": {
        "_uuid": "e09e25d08c0025e44bf53fee5bafec39c05150a9"
      },
      "cell_type": "markdown",
      "source": "If you like this Notebook, Please Upvote.\nHappy Kaggling!!"
    }
  ],
  "metadata": {
    "kernelspec": {
      "display_name": "Python 3",
      "language": "python",
      "name": "python3"
    },
    "language_info": {
      "name": "python",
      "version": "3.6.5",
      "mimetype": "text/x-python",
      "codemirror_mode": {
        "name": "ipython",
        "version": 3
      },
      "pygments_lexer": "ipython3",
      "nbconvert_exporter": "python",
      "file_extension": ".py"
    }
  },
  "nbformat": 4,
  "nbformat_minor": 1
}